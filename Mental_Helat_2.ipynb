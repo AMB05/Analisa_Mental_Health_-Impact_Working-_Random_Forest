{
 "cells": [
  {
   "cell_type": "code",
   "execution_count": 17,
   "metadata": {},
   "outputs": [
    {
     "name": "stdout",
     "output_type": "stream",
     "text": [
      "  Employee_ID  Age      Gender           Job_Role    Industry  \\\n",
      "0     EMP0001   32  Non-binary                 HR  Healthcare   \n",
      "1     EMP0002   40      Female     Data Scientist          IT   \n",
      "2     EMP0003   59  Non-binary  Software Engineer   Education   \n",
      "3     EMP0004   27        Male  Software Engineer     Finance   \n",
      "4     EMP0005   49        Male              Sales  Consulting   \n",
      "\n",
      "   Years_of_Experience Work_Location  Hours_Worked_Per_Week  \\\n",
      "0                   13        Hybrid                     47   \n",
      "1                    3        Remote                     52   \n",
      "2                   22        Hybrid                     46   \n",
      "3                   20        Onsite                     32   \n",
      "4                   32        Onsite                     35   \n",
      "\n",
      "   Number_of_Virtual_Meetings  Work_Life_Balance_Rating Stress_Level  \\\n",
      "0                           7                         2       Medium   \n",
      "1                           4                         1       Medium   \n",
      "2                          11                         5       Medium   \n",
      "3                           8                         4         High   \n",
      "4                          12                         2         High   \n",
      "\n",
      "  Mental_Health_Condition Access_to_Mental_Health_Resources  \\\n",
      "0              Depression                                No   \n",
      "1                 Anxiety                                No   \n",
      "2                 Anxiety                                No   \n",
      "3              Depression                               Yes   \n",
      "4                    None                               Yes   \n",
      "\n",
      "  Productivity_Change  Social_Isolation_Rating Satisfaction_with_Remote_Work  \\\n",
      "0            Decrease                        1                   Unsatisfied   \n",
      "1            Increase                        3                     Satisfied   \n",
      "2           No Change                        4                   Unsatisfied   \n",
      "3            Increase                        3                   Unsatisfied   \n",
      "4            Decrease                        3                   Unsatisfied   \n",
      "\n",
      "   Company_Support_for_Remote_Work Physical_Activity Sleep_Quality  \\\n",
      "0                                1            Weekly          Good   \n",
      "1                                2            Weekly          Good   \n",
      "2                                5              None          Poor   \n",
      "3                                3              None          Poor   \n",
      "4                                3            Weekly       Average   \n",
      "\n",
      "          Region  \n",
      "0         Europe  \n",
      "1           Asia  \n",
      "2  North America  \n",
      "3         Europe  \n",
      "4  North America  \n"
     ]
    }
   ],
   "source": [
    "import pandas as pd\n",
    "\n",
    "# Memuat file CSV\n",
    "file_path = \"Impact_of_Remote_Work_on_Mental_Health (1).csv\"\n",
    "data = pd.read_csv(file_path)\n",
    "\n",
    "# Menampilkan data awal\n",
    "print(data.head())\n"
   ]
  },
  {
   "cell_type": "code",
   "execution_count": 18,
   "metadata": {},
   "outputs": [
    {
     "name": "stdout",
     "output_type": "stream",
     "text": [
      "   Age Stress_Level Work_Location           Job_Role      Gender  \\\n",
      "0   32       Medium        Hybrid                 HR  Non-binary   \n",
      "1   40       Medium        Remote     Data Scientist      Female   \n",
      "2   59       Medium        Hybrid  Software Engineer  Non-binary   \n",
      "3   27         High        Onsite  Software Engineer        Male   \n",
      "4   49         High        Onsite              Sales        Male   \n",
      "\n",
      "  Mental_Health_Condition  \n",
      "0              Depression  \n",
      "1                 Anxiety  \n",
      "2                 Anxiety  \n",
      "3              Depression  \n",
      "4                    None  \n"
     ]
    }
   ],
   "source": [
    "# Memilih kolom yang relevan\n",
    "selected_columns = ['Age', 'Stress_Level', 'Work_Location', 'Job_Role', 'Gender', 'Mental_Health_Condition']\n",
    "data = data[selected_columns]\n",
    "print(data.head())\n"
   ]
  },
  {
   "cell_type": "code",
   "execution_count": 19,
   "metadata": {},
   "outputs": [
    {
     "name": "stdout",
     "output_type": "stream",
     "text": [
      "    Age Stress_Level Work_Location           Job_Role  Gender  \\\n",
      "1    40       Medium        Remote     Data Scientist  Female   \n",
      "3    27         High        Onsite  Software Engineer    Male   \n",
      "9    30          Low        Hybrid                 HR  Female   \n",
      "12   40         High        Remote          Marketing  Female   \n",
      "15   56          Low        Remote              Sales  Female   \n",
      "\n",
      "   Mental_Health_Condition  \n",
      "1                  Anxiety  \n",
      "3               Depression  \n",
      "9               Depression  \n",
      "12              Depression  \n",
      "15                 Anxiety  \n"
     ]
    }
   ],
   "source": [
    "# Menentukan nilai valid untuk kolom-kolom tertentu\n",
    "valid_values = {\n",
    "    'Gender': ['Female', 'Male'],  # Hanya 'Female' dan 'Male'\n",
    "    'Stress_Level': ['Low', 'Medium', 'High'],  # Hanya 'Low', 'Medium', 'High'\n",
    "    'Work_Location': ['Hybrid', 'Remote', 'Onsite'],  # Hanya 'Hybrid', 'Remote', 'Onsite'\n",
    "    'Mental_Health_Condition': ['Depression', 'Anxiety', 'Burnout']  # Hanya 'Depression', 'Anxiety', 'Burnout'\n",
    "}\n",
    "\n",
    "# Memfilter data berdasarkan nilai valid di setiap kolom\n",
    "for column, valid_list in valid_values.items():\n",
    "    data = data[data[column].isin(valid_list)]\n",
    "\n",
    "# Menampilkan hasil data yang sudah dibersihkan\n",
    "print(data.head())"
   ]
  }
 ],
 "metadata": {
  "kernelspec": {
   "display_name": "base",
   "language": "python",
   "name": "python3"
  },
  "language_info": {
   "codemirror_mode": {
    "name": "ipython",
    "version": 3
   },
   "file_extension": ".py",
   "mimetype": "text/x-python",
   "name": "python",
   "nbconvert_exporter": "python",
   "pygments_lexer": "ipython3",
   "version": "3.9.7"
  }
 },
 "nbformat": 4,
 "nbformat_minor": 2
}
