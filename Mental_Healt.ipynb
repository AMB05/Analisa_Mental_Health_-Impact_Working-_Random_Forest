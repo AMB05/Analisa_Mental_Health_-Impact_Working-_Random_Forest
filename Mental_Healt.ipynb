{
 "cells": [
  {
   "cell_type": "code",
   "execution_count": 14,
   "metadata": {},
   "outputs": [
    {
     "name": "stdout",
     "output_type": "stream",
     "text": [
      "  Employee_ID  Age      Gender           Job_Role    Industry  \\\n",
      "0     EMP0001   32  Non-binary                 HR  Healthcare   \n",
      "1     EMP0002   40      Female     Data Scientist          IT   \n",
      "2     EMP0003   59  Non-binary  Software Engineer   Education   \n",
      "3     EMP0004   27        Male  Software Engineer     Finance   \n",
      "4     EMP0005   49        Male              Sales  Consulting   \n",
      "\n",
      "   Years_of_Experience Work_Location  Hours_Worked_Per_Week  \\\n",
      "0                   13        Hybrid                     47   \n",
      "1                    3        Remote                     52   \n",
      "2                   22        Hybrid                     46   \n",
      "3                   20        Onsite                     32   \n",
      "4                   32        Onsite                     35   \n",
      "\n",
      "   Number_of_Virtual_Meetings  Work_Life_Balance_Rating Stress_Level  \\\n",
      "0                           7                         2       Medium   \n",
      "1                           4                         1       Medium   \n",
      "2                          11                         5       Medium   \n",
      "3                           8                         4         High   \n",
      "4                          12                         2         High   \n",
      "\n",
      "  Mental_Health_Condition Access_to_Mental_Health_Resources  \\\n",
      "0              Depression                                No   \n",
      "1                 Anxiety                                No   \n",
      "2                 Anxiety                                No   \n",
      "3              Depression                               Yes   \n",
      "4                    None                               Yes   \n",
      "\n",
      "  Productivity_Change  Social_Isolation_Rating Satisfaction_with_Remote_Work  \\\n",
      "0            Decrease                        1                   Unsatisfied   \n",
      "1            Increase                        3                     Satisfied   \n",
      "2           No Change                        4                   Unsatisfied   \n",
      "3            Increase                        3                   Unsatisfied   \n",
      "4            Decrease                        3                   Unsatisfied   \n",
      "\n",
      "   Company_Support_for_Remote_Work Physical_Activity Sleep_Quality  \\\n",
      "0                                1            Weekly          Good   \n",
      "1                                2            Weekly          Good   \n",
      "2                                5              None          Poor   \n",
      "3                                3              None          Poor   \n",
      "4                                3            Weekly       Average   \n",
      "\n",
      "          Region  \n",
      "0         Europe  \n",
      "1           Asia  \n",
      "2  North America  \n",
      "3         Europe  \n",
      "4  North America  \n"
     ]
    }
   ],
   "source": [
    "import pandas as pd\n",
    "\n",
    "# Load the dataset\n",
    "data = pd.read_csv(\"Impact_of_Remote_Work_on_Mental_Health (1).csv\")\n",
    "\n",
    "# Lihat 5 baris pertama\n",
    "print(data.head())\n"
   ]
  },
  {
   "cell_type": "code",
   "execution_count": 15,
   "metadata": {},
   "outputs": [],
   "source": [
    "target_conditions = ['Depression', 'Anxiety', 'Burnout']\n",
    "data['Mental_Health_Condition_Binary'] = data['Mental_Health_Condition'].apply(\n",
    "    lambda x: 1 if x in target_conditions else 0\n",
    ")\n"
   ]
  },
  {
   "cell_type": "code",
   "execution_count": 16,
   "metadata": {},
   "outputs": [],
   "source": [
    "features = ['Gender', 'Work_Location', 'Stress_Level', 'Age', 'Hours_Worked_Per_Week']\n",
    "X = data[features]\n",
    "y = data['Mental_Health_Condition_Binary']\n"
   ]
  },
  {
   "cell_type": "code",
   "execution_count": 17,
   "metadata": {},
   "outputs": [],
   "source": [
    "X_encoded = pd.get_dummies(X, columns=['Gender', 'Work_Location', 'Stress_Level'], drop_first=True)\n"
   ]
  },
  {
   "cell_type": "code",
   "execution_count": 18,
   "metadata": {},
   "outputs": [],
   "source": [
    "from sklearn.preprocessing import StandardScaler\n",
    "\n",
    "scaler = StandardScaler()\n",
    "X_encoded[['Age', 'Hours_Worked_Per_Week']] = scaler.fit_transform(X_encoded[['Age', 'Hours_Worked_Per_Week']])\n"
   ]
  },
  {
   "cell_type": "code",
   "execution_count": 19,
   "metadata": {},
   "outputs": [],
   "source": [
    "from sklearn.model_selection import train_test_split\n",
    "\n",
    "X_train, X_test, y_train, y_test = train_test_split(X_encoded, y, test_size=0.2, random_state=42)\n"
   ]
  },
  {
   "cell_type": "code",
   "execution_count": 20,
   "metadata": {},
   "outputs": [
    {
     "data": {
      "text/html": [
       "<style>#sk-container-id-2 {color: black;}#sk-container-id-2 pre{padding: 0;}#sk-container-id-2 div.sk-toggleable {background-color: white;}#sk-container-id-2 label.sk-toggleable__label {cursor: pointer;display: block;width: 100%;margin-bottom: 0;padding: 0.3em;box-sizing: border-box;text-align: center;}#sk-container-id-2 label.sk-toggleable__label-arrow:before {content: \"▸\";float: left;margin-right: 0.25em;color: #696969;}#sk-container-id-2 label.sk-toggleable__label-arrow:hover:before {color: black;}#sk-container-id-2 div.sk-estimator:hover label.sk-toggleable__label-arrow:before {color: black;}#sk-container-id-2 div.sk-toggleable__content {max-height: 0;max-width: 0;overflow: hidden;text-align: left;background-color: #f0f8ff;}#sk-container-id-2 div.sk-toggleable__content pre {margin: 0.2em;color: black;border-radius: 0.25em;background-color: #f0f8ff;}#sk-container-id-2 input.sk-toggleable__control:checked~div.sk-toggleable__content {max-height: 200px;max-width: 100%;overflow: auto;}#sk-container-id-2 input.sk-toggleable__control:checked~label.sk-toggleable__label-arrow:before {content: \"▾\";}#sk-container-id-2 div.sk-estimator input.sk-toggleable__control:checked~label.sk-toggleable__label {background-color: #d4ebff;}#sk-container-id-2 div.sk-label input.sk-toggleable__control:checked~label.sk-toggleable__label {background-color: #d4ebff;}#sk-container-id-2 input.sk-hidden--visually {border: 0;clip: rect(1px 1px 1px 1px);clip: rect(1px, 1px, 1px, 1px);height: 1px;margin: -1px;overflow: hidden;padding: 0;position: absolute;width: 1px;}#sk-container-id-2 div.sk-estimator {font-family: monospace;background-color: #f0f8ff;border: 1px dotted black;border-radius: 0.25em;box-sizing: border-box;margin-bottom: 0.5em;}#sk-container-id-2 div.sk-estimator:hover {background-color: #d4ebff;}#sk-container-id-2 div.sk-parallel-item::after {content: \"\";width: 100%;border-bottom: 1px solid gray;flex-grow: 1;}#sk-container-id-2 div.sk-label:hover label.sk-toggleable__label {background-color: #d4ebff;}#sk-container-id-2 div.sk-serial::before {content: \"\";position: absolute;border-left: 1px solid gray;box-sizing: border-box;top: 0;bottom: 0;left: 50%;z-index: 0;}#sk-container-id-2 div.sk-serial {display: flex;flex-direction: column;align-items: center;background-color: white;padding-right: 0.2em;padding-left: 0.2em;position: relative;}#sk-container-id-2 div.sk-item {position: relative;z-index: 1;}#sk-container-id-2 div.sk-parallel {display: flex;align-items: stretch;justify-content: center;background-color: white;position: relative;}#sk-container-id-2 div.sk-item::before, #sk-container-id-2 div.sk-parallel-item::before {content: \"\";position: absolute;border-left: 1px solid gray;box-sizing: border-box;top: 0;bottom: 0;left: 50%;z-index: -1;}#sk-container-id-2 div.sk-parallel-item {display: flex;flex-direction: column;z-index: 1;position: relative;background-color: white;}#sk-container-id-2 div.sk-parallel-item:first-child::after {align-self: flex-end;width: 50%;}#sk-container-id-2 div.sk-parallel-item:last-child::after {align-self: flex-start;width: 50%;}#sk-container-id-2 div.sk-parallel-item:only-child::after {width: 0;}#sk-container-id-2 div.sk-dashed-wrapped {border: 1px dashed gray;margin: 0 0.4em 0.5em 0.4em;box-sizing: border-box;padding-bottom: 0.4em;background-color: white;}#sk-container-id-2 div.sk-label label {font-family: monospace;font-weight: bold;display: inline-block;line-height: 1.2em;}#sk-container-id-2 div.sk-label-container {text-align: center;}#sk-container-id-2 div.sk-container {/* jupyter's `normalize.less` sets `[hidden] { display: none; }` but bootstrap.min.css set `[hidden] { display: none !important; }` so we also need the `!important` here to be able to override the default hidden behavior on the sphinx rendered scikit-learn.org. See: https://github.com/scikit-learn/scikit-learn/issues/21755 */display: inline-block !important;position: relative;}#sk-container-id-2 div.sk-text-repr-fallback {display: none;}</style><div id=\"sk-container-id-2\" class=\"sk-top-container\"><div class=\"sk-text-repr-fallback\"><pre>LogisticRegression()</pre><b>In a Jupyter environment, please rerun this cell to show the HTML representation or trust the notebook. <br />On GitHub, the HTML representation is unable to render, please try loading this page with nbviewer.org.</b></div><div class=\"sk-container\" hidden><div class=\"sk-item\"><div class=\"sk-estimator sk-toggleable\"><input class=\"sk-toggleable__control sk-hidden--visually\" id=\"sk-estimator-id-2\" type=\"checkbox\" checked><label for=\"sk-estimator-id-2\" class=\"sk-toggleable__label sk-toggleable__label-arrow\">LogisticRegression</label><div class=\"sk-toggleable__content\"><pre>LogisticRegression()</pre></div></div></div></div></div>"
      ],
      "text/plain": [
       "LogisticRegression()"
      ]
     },
     "execution_count": 20,
     "metadata": {},
     "output_type": "execute_result"
    }
   ],
   "source": [
    "from sklearn.linear_model import LogisticRegression\n",
    "\n",
    "model = LogisticRegression()\n",
    "model.fit(X_train, y_train)\n"
   ]
  },
  {
   "cell_type": "code",
   "execution_count": 21,
   "metadata": {},
   "outputs": [
    {
     "name": "stdout",
     "output_type": "stream",
     "text": [
      "Classification Report:\n",
      "               precision    recall  f1-score   support\n",
      "\n",
      "           0       0.00      0.00      0.00       237\n",
      "           1       0.76      1.00      0.87       763\n",
      "\n",
      "    accuracy                           0.76      1000\n",
      "   macro avg       0.38      0.50      0.43      1000\n",
      "weighted avg       0.58      0.76      0.66      1000\n",
      "\n",
      "Confusion Matrix:\n",
      " [[  0 237]\n",
      " [  0 763]]\n"
     ]
    },
    {
     "name": "stderr",
     "output_type": "stream",
     "text": [
      "c:\\Users\\WINDOWS-10\\anaconda3\\lib\\site-packages\\sklearn\\metrics\\_classification.py:1471: UndefinedMetricWarning: Precision and F-score are ill-defined and being set to 0.0 in labels with no predicted samples. Use `zero_division` parameter to control this behavior.\n",
      "  _warn_prf(average, modifier, msg_start, len(result))\n",
      "c:\\Users\\WINDOWS-10\\anaconda3\\lib\\site-packages\\sklearn\\metrics\\_classification.py:1471: UndefinedMetricWarning: Precision and F-score are ill-defined and being set to 0.0 in labels with no predicted samples. Use `zero_division` parameter to control this behavior.\n",
      "  _warn_prf(average, modifier, msg_start, len(result))\n",
      "c:\\Users\\WINDOWS-10\\anaconda3\\lib\\site-packages\\sklearn\\metrics\\_classification.py:1471: UndefinedMetricWarning: Precision and F-score are ill-defined and being set to 0.0 in labels with no predicted samples. Use `zero_division` parameter to control this behavior.\n",
      "  _warn_prf(average, modifier, msg_start, len(result))\n"
     ]
    }
   ],
   "source": [
    "from sklearn.metrics import classification_report, confusion_matrix\n",
    "\n",
    "y_pred = model.predict(X_test)\n",
    "print(\"Classification Report:\\n\", classification_report(y_test, y_pred))\n",
    "print(\"Confusion Matrix:\\n\", confusion_matrix(y_test, y_pred))\n"
   ]
  },
  {
   "cell_type": "code",
   "execution_count": 29,
   "metadata": {},
   "outputs": [
    {
     "data": {
      "image/png": "[encoded data removed]",
      "text/plain": [
       "<Figure size 864x360 with 2 Axes>"
      ]
     },
     "metadata": {
      "needs_background": "light"
     },
     "output_type": "display_data"
    }
   ],
   "source": [
    "import matplotlib.pyplot as plt\n",
    "\n",
    "# Membuat grafik perbandingan target sebenarnya dan prediksi\n",
    "y_test_value_counts = y_test.value_counts()\n",
    "y_pred_value_counts = pd.Series(y_pred).value_counts()\n",
    "\n",
    "fig, ax = plt.subplots(1, 2, figsize=(12, 5))\n",
    "\n",
    "# Grafik distribusi data asli\n",
    "ax[0].bar(y_test_value_counts.index, y_test_value_counts.values, color='skyblue')\n",
    "ax[0].set_title('Distribusi Data Asli (Target)')\n",
    "ax[0].set_xticks([0, 1])\n",
    "ax[0].set_xticklabels(['No Issue', 'Mental Health Issue'])\n",
    "ax[0].set_ylabel('Jumlah')\n",
    "ax[0].set_xlabel('Kelas')\n",
    "\n",
    "# Grafik distribusi prediksi\n",
    "ax[1].bar(y_pred_value_counts.index, y_pred_value_counts.values, color='lightcoral')\n",
    "ax[1].set_title('Distribusi Prediksi Model')\n",
    "ax[1].set_xticks([0, 1])\n",
    "ax[1].set_xticklabels(['No Issue', 'Mental Health Issue'])\n",
    "ax[1].set_ylabel('Jumlah')\n",
    "ax[1].set_xlabel('Kelas')\n",
    "\n",
    "plt.tight_layout()\n",
    "plt.show()\n"
   ]
  },
  {
   "cell_type": "code",
   "execution_count": 30,
   "metadata": {},
   "outputs": [
    {
     "data": {
      "image/png": "[encoded data removed]",
      "text/plain": [
       "<Figure size 576x432 with 2 Axes>"
      ]
     },
     "metadata": {
      "needs_background": "light"
     },
     "output_type": "display_data"
    }
   ],
   "source": [
    "import seaborn as sns\n",
    "\n",
    "# Membuat heatmap untuk confusion matrix\n",
    "plt.figure(figsize=(8, 6))\n",
    "sns.heatmap(confusion_matrix(y_test, y_pred), annot=True, fmt='d', cmap='Blues', xticklabels=['No Issue', 'Mental Health Issue'], yticklabels=['No Issue', 'Mental Health Issue'])\n",
    "plt.title('Confusion Matrix')\n",
    "plt.xlabel('Prediksi')\n",
    "plt.ylabel('Data Asli')\n",
    "plt.show()\n"
   ]
  },
  {
   "cell_type": "code",
   "execution_count": 26,
   "metadata": {},
   "outputs": [
    {
     "name": "stdout",
     "output_type": "stream",
     "text": [
      "Data pra-pemrosesan telah disimpan sebagai 'processed_data.csv'\n"
     ]
    }
   ],
   "source": [
    "# Menyimpan dataset hasil pra-pemrosesan\n",
    "processed_data = pd.concat([X_encoded, y], axis=1)\n",
    "processed_data.to_csv(\"processed_data.csv\", index=False)\n",
    "print(\"Data pra-pemrosesan telah disimpan sebagai 'processed_data.csv'\")\n"
   ]
  },
  {
   "cell_type": "code",
   "execution_count": 27,
   "metadata": {},
   "outputs": [
    {
     "name": "stdout",
     "output_type": "stream",
     "text": [
      "Hasil prediksi telah disimpan sebagai 'prediction_results.csv'\n"
     ]
    }
   ],
   "source": [
    "# Menyimpan hasil prediksi\n",
    "results = X_test.copy()\n",
    "results['Actual'] = y_test.values\n",
    "results['Predicted'] = y_pred\n",
    "results.to_csv(\"prediction_results.csv\", index=False)\n",
    "print(\"Hasil prediksi telah disimpan sebagai 'prediction_results.csv'\")\n"
   ]
  },
  {
   "cell_type": "code",
   "execution_count": 28,
   "metadata": {},
   "outputs": [
    {
     "data": {
      "image/png": "[encoded data removed]",
      "text/plain": [
       "<Figure size 864x360 with 2 Axes>"
      ]
     },
     "metadata": {
      "needs_background": "light"
     },
     "output_type": "display_data"
    }
   ],
   "source": [
    "import matplotlib.pyplot as plt\n",
    "import pandas as pd\n",
    "\n",
    "# Membuat grafik perbandingan\n",
    "y_test_value_counts = pd.Series(y_test).value_counts().sort_index()\n",
    "y_pred_value_counts = pd.Series(y_pred).value_counts().sort_index()\n",
    "\n",
    "# Membuat subplot\n",
    "fig, ax = plt.subplots(1, 2, figsize=(12, 5))\n",
    "\n",
    "# Grafik distribusi target asli\n",
    "ax[0].bar(y_test_value_counts.index, y_test_value_counts.values, color='skyblue')\n",
    "ax[0].set_title('Distribusi Target Asli')\n",
    "ax[0].set_xticks([0, 1])\n",
    "ax[0].set_xticklabels(['No Issue', 'Mental Health Issue'])\n",
    "ax[0].set_ylabel('Jumlah')\n",
    "ax[0].set_xlabel('Kelas')\n",
    "\n",
    "# Grafik distribusi prediksi\n",
    "ax[1].bar(y_pred_value_counts.index, y_pred_value_counts.values, color='lightcoral')\n",
    "ax[1].set_title('Distribusi Prediksi')\n",
    "ax[1].set_xticks([0, 1])\n",
    "ax[1].set_xticklabels(['No Issue', 'Mental Health Issue'])\n",
    "ax[1].set_ylabel('Jumlah')\n",
    "ax[1].set_xlabel('Kelas')\n",
    "\n",
    "plt.tight_layout()\n",
    "plt.show()\n"
   ]
  },
  {
   "cell_type": "code",
   "execution_count": 31,
   "metadata": {},
   "outputs": [
    {
     "data": {
      "image/png": "[encoded data removed]",
      "text/plain": [
       "<Figure size 864x432 with 1 Axes>"
      ]
     },
     "metadata": {
      "needs_background": "light"
     },
     "output_type": "display_data"
    }
   ],
   "source": [
    "# Membandingkan hasil prediksi dengan target asli\n",
    "results = X_test.copy()\n",
    "results['Actual'] = y_test.values\n",
    "results['Predicted'] = y_pred\n",
    "\n",
    "# Visualisasi sampel data\n",
    "sample_results = results.head(10)  # Contoh 10 data pertama\n",
    "sample_results.plot(kind='bar', figsize=(12, 6))\n",
    "plt.title('Perbandingan Target Asli dan Prediksi untuk Sampel Data')\n",
    "plt.ylabel('Kelas')\n",
    "plt.xticks(rotation=0)\n",
    "plt.legend(['Feature', 'Actual', 'Predicted'])\n",
    "plt.show()\n"
   ]
  }
 ],
 "metadata": {
  "kernelspec": {
   "display_name": "base",
   "language": "python",
   "name": "python3"
  },
  "language_info": {
   "codemirror_mode": {
    "name": "ipython",
    "version": 3
   },
   "file_extension": ".py",
   "mimetype": "text/x-python",
   "name": "python",
   "nbconvert_exporter": "python",
   "pygments_lexer": "ipython3",
   "version": "3.9.7"
  }
 },
 "nbformat": 4,
 "nbformat_minor": 2
}
